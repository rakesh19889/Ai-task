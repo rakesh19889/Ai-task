{
  "nbformat": 4,
  "nbformat_minor": 0,
  "metadata": {
    "colab": {
      "provenance": [],
      "mount_file_id": "1Ulo87c5Puf7OIbqyWIoP8zeJLLmrIVcd",
      "authorship_tag": "ABX9TyMmLdAxhI9ebTMK2e3n1Rtt",
      "include_colab_link": true
    },
    "kernelspec": {
      "name": "python3",
      "display_name": "Python 3"
    },
    "language_info": {
      "name": "python"
    }
  },
  "cells": [
    {
      "cell_type": "markdown",
      "metadata": {
        "id": "view-in-github",
        "colab_type": "text"
      },
      "source": [
        "<a href=\"https://colab.research.google.com/github/rakesh19889/Ai-task/blob/main/SecqurAIse_Technologies_Private_Limited.ipynb\" target=\"_parent\"><img src=\"https://colab.research.google.com/assets/colab-badge.svg\" alt=\"Open In Colab\"/></a>"
      ]
    },
    {
      "cell_type": "code",
      "execution_count": 2,
      "metadata": {
        "colab": {
          "base_uri": "https://localhost:8080/"
        },
        "id": "Ro5ZWNZB0vAM",
        "outputId": "169974af-fa69-4c4c-d11f-a56e5455692a"
      },
      "outputs": [
        {
          "output_type": "stream",
          "name": "stdout",
          "text": [
            "Requirement already satisfied: opencv-python in /usr/local/lib/python3.10/dist-packages (4.8.0.76)\n",
            "Requirement already satisfied: numpy in /usr/local/lib/python3.10/dist-packages (1.25.2)\n"
          ]
        }
      ],
      "source": [
        "!pip install opencv-python numpy\n",
        "\n"
      ]
    },
    {
      "cell_type": "code",
      "source": [
        "import cv2\n",
        "import numpy as np\n",
        "import time\n",
        "import csv\n",
        "\n",
        "# Function to get the current quadrant of the ball\n",
        "def get_quadrant(x, y, width, height):\n",
        "    if x < width // 2:\n",
        "        if y < height // 2:\n",
        "            return 1\n",
        "        else:\n",
        "            return 3\n",
        "    else:\n",
        "        if y < height // 2:\n",
        "            return 2\n",
        "        else:\n",
        "            return 4\n",
        "\n",
        "# Function to detect and track colored balls\n",
        "def track_balls(video_path, output_csv):\n",
        "    # Open video file\n",
        "    cap = cv2.VideoCapture(video_path)\n",
        "\n",
        "    # Get video properties\n",
        "    fps = cap.get(cv2.CAP_PROP_FPS)\n",
        "    width = int(cap.get(cv2.CAP_PROP_FRAME_WIDTH))\n",
        "    height = int(cap.get(cv2.CAP_PROP_FRAME_HEIGHT))\n",
        "    total_frames = int(cap.get(cv2.CAP_PROP_FRAME_COUNT))\n",
        "\n",
        "    # Define the color ranges for detection\n",
        "    color_ranges = {\n",
        "        'red': ((0, 50, 50), (10, 255, 255)),\n",
        "        'green': ((50, 50, 50), (70, 255, 255)),\n",
        "        'blue': ((110, 50, 50), (130, 255, 255))\n",
        "    }\n",
        "\n",
        "    # To keep track of the last known quadrant of each ball\n",
        "    last_quadrant = {}\n",
        "\n",
        "    # Open a CSV file to write the events\n",
        "    with open(output_csv, 'w', newline='') as csvfile:\n",
        "        csvwriter = csv.writer(csvfile)\n",
        "        csvwriter.writerow(['Time', 'Quadrant Number', 'Ball Colour', 'Type'])\n",
        "\n",
        "        frame_count = 0\n",
        "        while cap.isOpened():\n",
        "            ret, frame = cap.read()\n",
        "            if not ret:\n",
        "                break\n",
        "\n",
        "            # Convert frame to HSV color space\n",
        "            hsv = cv2.cvtColor(frame, cv2.COLOR_BGR2HSV)\n",
        "\n",
        "            # Iterate over each color to detect balls\n",
        "            for color, (lower, upper) in color_ranges.items():\n",
        "                mask = cv2.inRange(hsv, lower, upper)\n",
        "                mask = cv2.erode(mask, None, iterations=2)\n",
        "                mask = cv2.dilate(mask, None, iterations=2)\n",
        "\n",
        "                # Find contours of the masked regions\n",
        "                contours, _ = cv2.findContours(mask.copy(), cv2.RETR_EXTERNAL, cv2.CHAIN_APPROX_SIMPLE)\n",
        "                for contour in contours:\n",
        "                    if cv2.contourArea(contour) > 100:  # Minimum area to filter noise\n",
        "                        ((x, y), radius) = cv2.minEnclosingCircle(contour)\n",
        "                        quadrant = get_quadrant(x, y, width, height)\n",
        "                        ball_id = f\"{color}_ball\"\n",
        "\n",
        "                        # Check if the ball has changed quadrant\n",
        "                        if ball_id not in last_quadrant:\n",
        "                            last_quadrant[ball_id] = quadrant\n",
        "                            event_type = 'Entry'\n",
        "                        elif last_quadrant[ball_id] != quadrant:\n",
        "                            event_type = 'Exit'\n",
        "                            last_quadrant[ball_id] = quadrant\n",
        "\n",
        "                        # Record the event\n",
        "                        timestamp = frame_count / fps\n",
        "                        csvwriter.writerow([timestamp, quadrant, color, event_type])\n",
        "\n",
        "            frame_count += 1\n",
        "\n",
        "    cap.release()\n",
        "\n",
        "# Example usage\n",
        "track_balls('/content/drive/MyDrive/Untitled folder/AI Assignment video.mp4', 'output_events.csv')\n"
      ],
      "metadata": {
        "id": "6NmObTej1GQv"
      },
      "execution_count": 5,
      "outputs": []
    }
  ]
}